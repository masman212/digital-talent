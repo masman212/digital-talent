{
 "cells": [
  {
   "cell_type": "code",
   "execution_count": 2,
   "metadata": {},
   "outputs": [
    {
     "name": "stdout",
     "output_type": "stream",
     "text": [
      "input your weight (kg):\n",
      "80\n",
      "input yout height (cm):\n",
      "170\n",
      "your weight 80.0 kg, Your height 1.7 m, Your BMI:  27.68166089965398 You are categorized as:\n",
      "Overweight\n"
     ]
    }
   ],
   "source": [
    "print(\"input your weight (kg):\")\n",
    "weight=float(input())\n",
    "print(\"input yout height (cm):\")\n",
    "height=float(input())\n",
    "height=height/100\n",
    "#calc\n",
    "BMI=weight/(height**2)\n",
    "#print feedback\n",
    "print(\"your weight\",weight,\"kg, Your height\",height,\"m, Your BMI: \",BMI,\"You are categorized as:\")\n",
    "#catagorizing\n",
    "if BMI<15:\n",
    "\tprint(\"Very severely underweight\")\n",
    "elif BMI<16:\n",
    "\tprint(\"Severely underweight\")\n",
    "elif BMI<18.5:\n",
    "\tprint(\"Underweight\")\n",
    "elif BMI<25:\n",
    "\tprint(\"Normal (healthy weight)\")\n",
    "elif BMI<30:\n",
    "\tprint(\"Overweight\")\n",
    "elif BMI<35:\n",
    "\tprint(\"Moderately obese\")\n",
    "elif BMI<40:\n",
    "\tprint(\"Severely obese\")\n",
    "else: print(\"Very severely obese\")"
   ]
  },
  {
   "cell_type": "code",
   "execution_count": null,
   "metadata": {},
   "outputs": [],
   "source": []
  }
 ],
 "metadata": {
  "kernelspec": {
   "display_name": "Python 3",
   "language": "python",
   "name": "python3"
  },
  "language_info": {
   "codemirror_mode": {
    "name": "ipython",
    "version": 3
   },
   "file_extension": ".py",
   "mimetype": "text/x-python",
   "name": "python",
   "nbconvert_exporter": "python",
   "pygments_lexer": "ipython3",
   "version": "3.7.0"
  }
 },
 "nbformat": 4,
 "nbformat_minor": 2
}
