{
 "cells": [
  {
   "cell_type": "code",
   "execution_count": 19,
   "metadata": {},
   "outputs": [
    {
     "name": "stdout",
     "output_type": "stream",
     "text": [
      "[78, 21, 85, 89, 37, 98, 88, 5, 45, 74, 64, 32, 10, 31, 50, 9, 3, 63, 80, 29, 19, 86, 83, 4, 58, 81, 25, 60, 4, 9, 94, 95, 73, 50, 80, 64, 57, 59, 58, 14, 55, 56, 25, 92, 19, 57, 7, 58, 76, 81, 55, 31, 97, 89, 56, 57, 24, 13, 11, 28, 99, 23, 57, 15, 87, 11, 39, 98, 96, 93, 87, 26, 95, 78, 2, 94, 74, 60, 55, 32, 39, 71, 75, 59, 95, 27, 67, 10, 8, 31, 3, 22, 98, 16, 10, 12, 57, 22, 59, 89, 70, 94, 82, 32, 77, 63, 24, 11, 86, 21, 79, 67, 95, 20, 2, 50, 51, 92, 81, 79, 63, 96, 47, 5, 72, 32, 35, 60, 89, 11, 52, 87, 10, 96, 71, 36, 27, 61, 73, 70, 50, 50, 91, 99, 54, 31, 28, 15, 55, 73, 92, 11, 39, 77, 65, 45, 68, 97, 3, 33, 59, 92, 5, 22, 71, 54, 52, 40, 70, 42, 84, 82, 92, 41, 57, 31, 43, 70, 51, 85, 66, 62, 65, 79, 31, 5, 16, 83, 1, 54, 53, 56, 79, 6, 15, 58, 15, 7, 9, 19, 38, 7, 44, 82, 32, 89, 23, 13, 25, 10, 48, 55, 62, 43, 82, 55, 83, 79, 28, 18, 87, 9, 96, 82, 34, 5, 74, 97, 2, 5, 2, 9, 68, 42, 62, 12, 38, 51, 32, 39, 59, 57, 93, 55, 94, 58, 40, 86, 13, 58]\n"
     ]
    }
   ],
   "source": [
    "import random,statistics\n",
    "\n",
    "# GENERATE RANDOM\n",
    "nilaiTugas = []\n",
    "for i in range(250):\n",
    "    nilaiTugas.append(random.randrange(1,100,1))\n",
    "\n",
    "print(nilaiTugas)\n",
    "\n",
    "# TAMPILKAN:\n",
    "# ganjil\n",
    "# nilai > 70\n",
    "# standar deviasi\n",
    "# maksimum\n",
    "# minimum\n",
    "# modus"
   ]
  },
  {
   "cell_type": "code",
   "execution_count": 20,
   "metadata": {},
   "outputs": [
    {
     "name": "stdout",
     "output_type": "stream",
     "text": [
      "#Nilai ganjil pada bilangan random:\n",
      "21\n",
      "85\n",
      "89\n",
      "37\n",
      "5\n",
      "45\n",
      "31\n",
      "9\n",
      "3\n",
      "63\n",
      "29\n",
      "19\n",
      "83\n",
      "81\n",
      "25\n",
      "9\n",
      "95\n",
      "73\n",
      "57\n",
      "59\n",
      "55\n",
      "25\n",
      "19\n",
      "57\n",
      "7\n",
      "81\n",
      "55\n",
      "31\n",
      "97\n",
      "89\n",
      "57\n",
      "13\n",
      "11\n",
      "99\n",
      "23\n",
      "57\n",
      "15\n",
      "87\n",
      "11\n",
      "39\n",
      "93\n",
      "87\n",
      "95\n",
      "55\n",
      "39\n",
      "71\n",
      "75\n",
      "59\n",
      "95\n",
      "27\n",
      "67\n",
      "31\n",
      "3\n",
      "57\n",
      "59\n",
      "89\n",
      "77\n",
      "63\n",
      "11\n",
      "21\n",
      "79\n",
      "67\n",
      "95\n",
      "51\n",
      "81\n",
      "79\n",
      "63\n",
      "47\n",
      "5\n",
      "35\n",
      "89\n",
      "11\n",
      "87\n",
      "71\n",
      "27\n",
      "61\n",
      "73\n",
      "91\n",
      "99\n",
      "31\n",
      "15\n",
      "55\n",
      "73\n",
      "11\n",
      "39\n",
      "77\n",
      "65\n",
      "45\n",
      "97\n",
      "3\n",
      "33\n",
      "59\n",
      "5\n",
      "71\n",
      "41\n",
      "57\n",
      "31\n",
      "43\n",
      "51\n",
      "85\n",
      "65\n",
      "79\n",
      "31\n",
      "5\n",
      "83\n",
      "1\n",
      "53\n",
      "79\n",
      "15\n",
      "15\n",
      "7\n",
      "9\n",
      "19\n",
      "7\n",
      "89\n",
      "23\n",
      "13\n",
      "25\n",
      "55\n",
      "43\n",
      "55\n",
      "83\n",
      "79\n",
      "87\n",
      "9\n",
      "5\n",
      "97\n",
      "5\n",
      "9\n",
      "51\n",
      "39\n",
      "59\n",
      "57\n",
      "93\n",
      "55\n",
      "13\n"
     ]
    }
   ],
   "source": [
    "#menampilkan nilai ganjil\n",
    "print(\"#Nilai ganjil pada bilangan random:\")\n",
    "for i in nilaiTugas:\n",
    "\tif i%2 > 0:\n",
    "\t\tprint(i)"
   ]
  },
  {
   "cell_type": "code",
   "execution_count": 21,
   "metadata": {},
   "outputs": [
    {
     "name": "stdout",
     "output_type": "stream",
     "text": [
      "nilai random yang lebih dari 70 ada 78\n"
     ]
    }
   ],
   "source": [
    "#menampilkan nilai ganjil\n",
    "x=0\n",
    "for i in nilaiTugas:\n",
    "\tif i > 70:\n",
    "\t\tx=x+1\n",
    "print(\"nilai random yang lebih dari 70 ada\",x)"
   ]
  },
  {
   "cell_type": "code",
   "execution_count": 22,
   "metadata": {},
   "outputs": [
    {
     "name": "stdout",
     "output_type": "stream",
     "text": [
      "mean of nilaiTugas is: 51.136\n",
      "standard deviation that has been calculated is 29.60387650291766\n"
     ]
    }
   ],
   "source": [
    "#calculating standard deviation\n",
    "import math\n",
    "#looking for mean\n",
    "i_sum=0\n",
    "for i in nilaiTugas:\n",
    "\ti_sum=i_sum+i\n",
    "i_mean = i_sum / len(nilaiTugas)\n",
    "print(\"mean of nilaiTugas is:\",i_mean)\n",
    "\n",
    "#deviation formula\n",
    "d_sum = 0\n",
    "for i in nilaiTugas:\n",
    "\td_sum = d_sum+((i-i_mean)**2)\n",
    "#print(d_sum)\n",
    "\n",
    "#final formula\n",
    "standard_deviation= math.sqrt(d_sum/len(nilaiTugas))\n",
    "print(\"standard deviation that has been calculated is\",standard_deviation)"
   ]
  },
  {
   "cell_type": "code",
   "execution_count": 23,
   "metadata": {},
   "outputs": [
    {
     "name": "stdout",
     "output_type": "stream",
     "text": [
      "99\n",
      "1\n"
     ]
    }
   ],
   "source": [
    "#looking for maximum and minimum value\n",
    "#maximum\n",
    "n_last = 0\n",
    "n_max = 0\n",
    "for n in nilaiTugas:\n",
    "    if n > n_last:\n",
    "        n_max = n\n",
    "        n_last = n\n",
    "print(n_max)\n",
    "#minimum\n",
    "n_last = 100000\n",
    "n_min = 0\n",
    "for n in nilaiTugas:\n",
    "    if n < n_last:\n",
    "        n_min = n\n",
    "        n_last = n\n",
    "print(n_min) "
   ]
  },
  {
   "cell_type": "code",
   "execution_count": 37,
   "metadata": {},
   "outputs": [
    {
     "ename": "StatisticsError",
     "evalue": "no unique mode; found 2 equally common values",
     "output_type": "error",
     "traceback": [
      "\u001b[1;31m---------------------------------------------------------------------------\u001b[0m",
      "\u001b[1;31mStatisticsError\u001b[0m                           Traceback (most recent call last)",
      "\u001b[1;32m<ipython-input-37-fa33c3467b00>\u001b[0m in \u001b[0;36m<module>\u001b[1;34m()\u001b[0m\n\u001b[1;32m----> 1\u001b[1;33m \u001b[0mprint\u001b[0m\u001b[1;33m(\u001b[0m\u001b[0mstatistics\u001b[0m\u001b[1;33m.\u001b[0m\u001b[0mmode\u001b[0m\u001b[1;33m(\u001b[0m\u001b[0mnilaiTugas\u001b[0m\u001b[1;33m)\u001b[0m\u001b[1;33m)\u001b[0m\u001b[1;33m\u001b[0m\u001b[0m\n\u001b[0m\u001b[0;32m      2\u001b[0m \u001b[1;33m\u001b[0m\u001b[0m\n\u001b[0;32m      3\u001b[0m \u001b[1;31m# lst = [1, 1, 2, 2, 3]\u001b[0m\u001b[1;33m\u001b[0m\u001b[1;33m\u001b[0m\u001b[0m\n\u001b[0;32m      4\u001b[0m \u001b[1;33m\u001b[0m\u001b[0m\n\u001b[0;32m      5\u001b[0m \u001b[1;31m# # test for count lst elements\u001b[0m\u001b[1;33m\u001b[0m\u001b[1;33m\u001b[0m\u001b[0m\n",
      "\u001b[1;32m~\\Anaconda3\\lib\\statistics.py\u001b[0m in \u001b[0;36mmode\u001b[1;34m(data)\u001b[0m\n\u001b[0;32m    504\u001b[0m     \u001b[1;32melif\u001b[0m \u001b[0mtable\u001b[0m\u001b[1;33m:\u001b[0m\u001b[1;33m\u001b[0m\u001b[0m\n\u001b[0;32m    505\u001b[0m         raise StatisticsError(\n\u001b[1;32m--> 506\u001b[1;33m                 \u001b[1;34m'no unique mode; found %d equally common values'\u001b[0m \u001b[1;33m%\u001b[0m \u001b[0mlen\u001b[0m\u001b[1;33m(\u001b[0m\u001b[0mtable\u001b[0m\u001b[1;33m)\u001b[0m\u001b[1;33m\u001b[0m\u001b[0m\n\u001b[0m\u001b[0;32m    507\u001b[0m                 )\n\u001b[0;32m    508\u001b[0m     \u001b[1;32melse\u001b[0m\u001b[1;33m:\u001b[0m\u001b[1;33m\u001b[0m\u001b[0m\n",
      "\u001b[1;31mStatisticsError\u001b[0m: no unique mode; found 2 equally common values"
     ]
    }
   ],
   "source": [
    "#looking for mode (failed)\n",
    "print(statistics.mode(nilaiTugas))"
   ]
  },
  {
   "cell_type": "code",
   "execution_count": null,
   "metadata": {},
   "outputs": [],
   "source": [
    "#Tugas Word Count"
   ]
  },
  {
   "cell_type": "code",
   "execution_count": 38,
   "metadata": {},
   "outputs": [
    {
     "name": "stdout",
     "output_type": "stream",
     "text": [
      "['Barcelona', 'berhasil', 'merebut', 'posisi', 'puncak', 'klasemen', 'La', 'Liga', 'Spanyol', 'seusai', 'menang', '4', '2', 'atas', 'Sevilla', 'pada', 'pertandingan', 'pekan', 'kesembilan', 'di', 'Stadion', 'Camp', 'Nou,', 'Sabtu', '20', '10', '2018', 'atau', 'Minggu', 'dini', 'hari', 'WIB.', 'Barcelona', 'membuka', 'keunggulan', 'pada', 'menit', 'ke', '2', 'melalui', 'gol', 'yang', 'dicetak', 'oleh', 'Philippe', 'Coutinho.', 'Lionel', 'Messi', 'menggandakan', 'keunggulan', 'Barcelona,', '10', 'menit', 'berselang.', 'Namun,', 'nahas', 'bagi', 'Barcelona,', 'karena', 'Messi', 'harus', 'ditarik', 'keluar', 'pada', 'menit', 'ke', '26', 'setelah', 'mengalami', 'cedera.', 'Tanpa', 'Messi,', 'skor', '2', '0', 'bertahan', 'hingga', 'babak', 'pertama', 'berakhir.']\n"
     ]
    }
   ],
   "source": [
    "paragraf = \"Barcelona berhasil merebut posisi puncak klasemen La Liga Spanyol seusai menang 4-2 atas Sevilla pada pertandingan pekan kesembilan di Stadion Camp Nou, Sabtu (20/10/2018) atau Minggu dini hari WIB. Barcelona membuka keunggulan pada menit ke-2 melalui gol yang dicetak oleh Philippe Coutinho. Lionel Messi menggandakan keunggulan Barcelona, 10 menit berselang.  Namun, nahas bagi Barcelona, karena Messi harus ditarik keluar pada menit ke-26 setelah mengalami cedera. Tanpa Messi, skor 2-0 bertahan hingga babak pertama berakhir.\"\n",
    "paragraf = paragraf.replace(\"/\",\" \")\n",
    "paragraf = paragraf.replace(\"(\",\" \")\n",
    "paragraf = paragraf.replace(\")\",\" \")\n",
    "paragraf = paragraf.replace(\"-\",\" \")\n",
    "print(paragraf.split())"
   ]
  },
  {
   "cell_type": "code",
   "execution_count": 53,
   "metadata": {},
   "outputs": [
    {
     "name": "stdout",
     "output_type": "stream",
     "text": [
      "['Barcelona', 'berhasil', 'merebut', 'posisi', 'puncak', 'klasemen', 'La', 'Liga', 'Spanyol', 'seusai', 'menang', '4', '2', 'atas', 'Sevilla', 'pada', 'pertandingan', 'pekan', 'kesembilan', 'di', 'Stadion', 'Camp', 'Nou,', 'Sabtu', '20', '10', '2018', 'atau', 'Minggu', 'dini', 'hari', 'WIB.', 'Barcelona', 'membuka', 'keunggulan', 'pada', 'menit', 'ke', '2', 'melalui', 'gol', 'yang', 'dicetak', 'oleh', 'Philippe', 'Coutinho.', 'Lionel', 'Messi', 'menggandakan', 'keunggulan', 'Barcelona,', '10', 'menit', 'berselang.', 'Namun,', 'nahas', 'bagi', 'Barcelona,', 'karena', 'Messi', 'harus', 'ditarik', 'keluar', 'pada', 'menit', 'ke', '26', 'setelah', 'mengalami', 'cedera.', 'Tanpa', 'Messi,', 'skor', '2', '0', 'bertahan', 'hingga', 'babak', 'pertama', 'berakhir.']\n"
     ]
    }
   ],
   "source": [
    "#Calcuate each word quantity\n",
    "test = paragraf.split()\n",
    "print(paragraf.split())"
   ]
  },
  {
   "cell_type": "code",
   "execution_count": 69,
   "metadata": {},
   "outputs": [
    {
     "ename": "SyntaxError",
     "evalue": "keyword can't be an expression (<ipython-input-69-e7dd8c8fa29e>, line 8)",
     "output_type": "error",
     "traceback": [
      "\u001b[1;36m  File \u001b[1;32m\"<ipython-input-69-e7dd8c8fa29e>\"\u001b[1;36m, line \u001b[1;32m8\u001b[0m\n\u001b[1;33m    print(n[\"Barcelona\"]=splitted.count[\"Barcelona\"])\u001b[0m\n\u001b[1;37m         ^\u001b[0m\n\u001b[1;31mSyntaxError\u001b[0m\u001b[1;31m:\u001b[0m keyword can't be an expression\n"
     ]
    }
   ],
   "source": [
    "splitted = paragraf.split() #splitting paragraph up as word\n",
    "as_dictionary = set(splitedParagraf) #result of splitted (word entities)\n",
    "# print(as_dictionary)\n",
    "n = {} #buffer\n",
    "for i in as_dictionary:\n",
    "    n[i] = splitted.count(i)\n",
    "print(n)"
   ]
  },
  {
   "cell_type": "code",
   "execution_count": null,
   "metadata": {},
   "outputs": [],
   "source": []
  }
 ],
 "metadata": {
  "kernelspec": {
   "display_name": "Python 3",
   "language": "python",
   "name": "python3"
  },
  "language_info": {
   "codemirror_mode": {
    "name": "ipython",
    "version": 3
   },
   "file_extension": ".py",
   "mimetype": "text/x-python",
   "name": "python",
   "nbconvert_exporter": "python",
   "pygments_lexer": "ipython3",
   "version": "3.7.0"
  }
 },
 "nbformat": 4,
 "nbformat_minor": 2
}
