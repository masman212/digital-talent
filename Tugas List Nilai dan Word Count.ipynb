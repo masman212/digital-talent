{
 "cells": [
  {
   "cell_type": "code",
   "execution_count": 2,
   "metadata": {},
   "outputs": [
    {
     "name": "stdout",
     "output_type": "stream",
     "text": [
      "[62, 99, 35, 22, 50, 67, 14, 23, 14, 13, 14, 47, 68, 42, 87, 7, 95, 27, 57, 86, 91, 26, 96, 25, 9, 7, 34, 90, 48, 24, 14, 8, 7, 36, 64, 40, 53, 87, 85, 98, 77, 17, 45, 44, 30, 65, 69, 30, 22, 20, 33, 94, 10, 14, 28, 27, 17, 71, 65, 22, 14, 92, 78, 68, 88, 67, 43, 99, 6, 8, 35, 29, 33, 2, 64, 88, 9, 33, 33, 24, 49, 77, 10, 2, 34, 42, 52, 80, 74, 83, 24, 23, 21, 94, 86, 68, 7, 53, 96, 18, 55, 14, 18, 83, 2, 87, 3, 98, 74, 39, 66, 73, 86, 72, 20, 7, 10, 96, 14, 70, 93, 89, 33, 60, 51, 96, 91, 25, 7, 51, 22, 82, 61, 90, 62, 64, 53, 75, 67, 76, 59, 86, 13, 11, 53, 87, 54, 85, 84, 35, 38, 82, 22, 28, 48, 13, 32, 6, 69, 13, 96, 87, 40, 90, 9, 9, 20, 63, 19, 7, 57, 28, 88, 21, 80, 7, 38, 13, 12, 93, 62, 71, 15, 63, 28, 68, 18, 47, 38, 81, 29, 62, 10, 58, 82, 43, 92, 29, 3, 53, 70, 2, 98, 11, 50, 40, 94, 99, 19, 47, 45, 17, 69, 79, 41, 97, 20, 53, 91, 92, 74, 55, 63, 60, 90, 24, 98, 34, 48, 4, 80, 98, 98, 57, 74, 67, 58, 55, 34, 23, 12, 95, 28, 56, 76, 80, 90, 40, 24, 35]\n"
     ]
    }
   ],
   "source": [
    "import random,statistics\n",
    "\n",
    "# GENERATE RANDOM\n",
    "nilaiTugas = []\n",
    "for i in range(250):\n",
    "    nilaiTugas.append(random.randrange(1,100,1))\n",
    "\n",
    "print(nilaiTugas)\n",
    "\n",
    "# TAMPILKAN:\n",
    "# ganjil\n",
    "# nilai > 70\n",
    "# standar deviasi\n",
    "# maksimum\n",
    "# minimum\n",
    "# modus"
   ]
  },
  {
   "cell_type": "code",
   "execution_count": 3,
   "metadata": {},
   "outputs": [
    {
     "name": "stdout",
     "output_type": "stream",
     "text": [
      "#Nilai ganjil pada bilangan random:\n",
      "99\n",
      "35\n",
      "67\n",
      "23\n",
      "13\n",
      "47\n",
      "87\n",
      "7\n",
      "95\n",
      "27\n",
      "57\n",
      "91\n",
      "25\n",
      "9\n",
      "7\n",
      "7\n",
      "53\n",
      "87\n",
      "85\n",
      "77\n",
      "17\n",
      "45\n",
      "65\n",
      "69\n",
      "33\n",
      "27\n",
      "17\n",
      "71\n",
      "65\n",
      "67\n",
      "43\n",
      "99\n",
      "35\n",
      "29\n",
      "33\n",
      "9\n",
      "33\n",
      "33\n",
      "49\n",
      "77\n",
      "83\n",
      "23\n",
      "21\n",
      "7\n",
      "53\n",
      "55\n",
      "83\n",
      "87\n",
      "3\n",
      "39\n",
      "73\n",
      "7\n",
      "93\n",
      "89\n",
      "33\n",
      "51\n",
      "91\n",
      "25\n",
      "7\n",
      "51\n",
      "61\n",
      "53\n",
      "75\n",
      "67\n",
      "59\n",
      "13\n",
      "11\n",
      "53\n",
      "87\n",
      "85\n",
      "35\n",
      "13\n",
      "69\n",
      "13\n",
      "87\n",
      "9\n",
      "9\n",
      "63\n",
      "19\n",
      "7\n",
      "57\n",
      "21\n",
      "7\n",
      "13\n",
      "93\n",
      "71\n",
      "15\n",
      "63\n",
      "47\n",
      "81\n",
      "29\n",
      "43\n",
      "29\n",
      "3\n",
      "53\n",
      "11\n",
      "99\n",
      "19\n",
      "47\n",
      "45\n",
      "17\n",
      "69\n",
      "79\n",
      "41\n",
      "97\n",
      "53\n",
      "91\n",
      "55\n",
      "63\n",
      "57\n",
      "67\n",
      "55\n",
      "23\n",
      "95\n",
      "35\n"
     ]
    }
   ],
   "source": [
    "#menampilkan nilai ganjil\n",
    "print(\"#Nilai ganjil pada bilangan random:\")\n",
    "for i in nilaiTugas:\n",
    "\tif i%2 > 0:\n",
    "\t\tprint(i)"
   ]
  },
  {
   "cell_type": "code",
   "execution_count": 4,
   "metadata": {},
   "outputs": [
    {
     "name": "stdout",
     "output_type": "stream",
     "text": [
      "nilai random yang lebih dari 70 ada 74\n"
     ]
    }
   ],
   "source": [
    "#menampilkan nilai ganjil\n",
    "x=0\n",
    "for i in nilaiTugas:\n",
    "\tif i > 70:\n",
    "\t\tx=x+1\n",
    "print(\"nilai random yang lebih dari 70 ada\",x)"
   ]
  },
  {
   "cell_type": "code",
   "execution_count": 5,
   "metadata": {},
   "outputs": [
    {
     "name": "stdout",
     "output_type": "stream",
     "text": [
      "mean of nilaiTugas is: 49.692\n",
      "standard deviation that has been calculated is 29.9988855793011\n"
     ]
    }
   ],
   "source": [
    "#calculating standard deviation\n",
    "import math\n",
    "#looking for mean\n",
    "i_sum=0\n",
    "for i in nilaiTugas:\n",
    "\ti_sum=i_sum+i\n",
    "i_mean = i_sum / len(nilaiTugas)\n",
    "print(\"mean of nilaiTugas is:\",i_mean)\n",
    "\n",
    "#deviation formula\n",
    "d_sum = 0\n",
    "for i in nilaiTugas:\n",
    "\td_sum = d_sum+((i-i_mean)**2)\n",
    "#print(d_sum)\n",
    "\n",
    "#final formula\n",
    "standard_deviation= math.sqrt(d_sum/len(nilaiTugas))\n",
    "print(\"standard deviation that has been calculated is\",standard_deviation)"
   ]
  },
  {
   "cell_type": "code",
   "execution_count": 6,
   "metadata": {},
   "outputs": [
    {
     "name": "stdout",
     "output_type": "stream",
     "text": [
      "99\n",
      "2\n"
     ]
    }
   ],
   "source": [
    "#looking for maximum and minimum value\n",
    "#maximum\n",
    "n_last = 0\n",
    "n_max = 0\n",
    "for n in nilaiTugas:\n",
    "    if n > n_last:\n",
    "        n_max = n\n",
    "        n_last = n\n",
    "print(n_max)\n",
    "#minimum\n",
    "n_last = 100000\n",
    "n_min = 0\n",
    "for n in nilaiTugas:\n",
    "    if n < n_last:\n",
    "        n_min = n\n",
    "        n_last = n\n",
    "print(n_min) "
   ]
  },
  {
   "cell_type": "code",
   "execution_count": 7,
   "metadata": {},
   "outputs": [
    {
     "ename": "StatisticsError",
     "evalue": "no unique mode; found 2 equally common values",
     "output_type": "error",
     "traceback": [
      "\u001b[0;31m---------------------------------------------------------------------------\u001b[0m",
      "\u001b[0;31mStatisticsError\u001b[0m                           Traceback (most recent call last)",
      "\u001b[0;32m<ipython-input-7-fde7d3585fc5>\u001b[0m in \u001b[0;36m<module>\u001b[0;34m\u001b[0m\n\u001b[1;32m      1\u001b[0m \u001b[0;31m#looking for mode (failed)\u001b[0m\u001b[0;34m\u001b[0m\u001b[0;34m\u001b[0m\u001b[0m\n\u001b[0;32m----> 2\u001b[0;31m \u001b[0mprint\u001b[0m\u001b[0;34m(\u001b[0m\u001b[0mstatistics\u001b[0m\u001b[0;34m.\u001b[0m\u001b[0mmode\u001b[0m\u001b[0;34m(\u001b[0m\u001b[0mnilaiTugas\u001b[0m\u001b[0;34m)\u001b[0m\u001b[0;34m)\u001b[0m\u001b[0;34m\u001b[0m\u001b[0m\n\u001b[0m",
      "\u001b[0;32m~/anaconda3/lib/python3.6/statistics.py\u001b[0m in \u001b[0;36mmode\u001b[0;34m(data)\u001b[0m\n\u001b[1;32m    505\u001b[0m     \u001b[0;32melif\u001b[0m \u001b[0mtable\u001b[0m\u001b[0;34m:\u001b[0m\u001b[0;34m\u001b[0m\u001b[0m\n\u001b[1;32m    506\u001b[0m         raise StatisticsError(\n\u001b[0;32m--> 507\u001b[0;31m                 \u001b[0;34m'no unique mode; found %d equally common values'\u001b[0m \u001b[0;34m%\u001b[0m \u001b[0mlen\u001b[0m\u001b[0;34m(\u001b[0m\u001b[0mtable\u001b[0m\u001b[0;34m)\u001b[0m\u001b[0;34m\u001b[0m\u001b[0m\n\u001b[0m\u001b[1;32m    508\u001b[0m                 )\n\u001b[1;32m    509\u001b[0m     \u001b[0;32melse\u001b[0m\u001b[0;34m:\u001b[0m\u001b[0;34m\u001b[0m\u001b[0m\n",
      "\u001b[0;31mStatisticsError\u001b[0m: no unique mode; found 2 equally common values"
     ]
    }
   ],
   "source": [
    "#looking for mode (failed)\n",
    "print(statistics.mode(nilaiTugas))"
   ]
  },
  {
   "cell_type": "code",
   "execution_count": null,
   "metadata": {},
   "outputs": [],
   "source": [
    "#Tugas Word Count"
   ]
  },
  {
   "cell_type": "code",
   "execution_count": 8,
   "metadata": {},
   "outputs": [
    {
     "name": "stdout",
     "output_type": "stream",
     "text": [
      "['Barcelona', 'berhasil', 'merebut', 'posisi', 'puncak', 'klasemen', 'La', 'Liga', 'Spanyol', 'seusai', 'menang', '4', '2', 'atas', 'Sevilla', 'pada', 'pertandingan', 'pekan', 'kesembilan', 'di', 'Stadion', 'Camp', 'Nou,', 'Sabtu', '20', '10', '2018', 'atau', 'Minggu', 'dini', 'hari', 'WIB.', 'Barcelona', 'membuka', 'keunggulan', 'pada', 'menit', 'ke', '2', 'melalui', 'gol', 'yang', 'dicetak', 'oleh', 'Philippe', 'Coutinho.', 'Lionel', 'Messi', 'menggandakan', 'keunggulan', 'Barcelona,', '10', 'menit', 'berselang.', 'Namun,', 'nahas', 'bagi', 'Barcelona,', 'karena', 'Messi', 'harus', 'ditarik', 'keluar', 'pada', 'menit', 'ke', '26', 'setelah', 'mengalami', 'cedera.', 'Tanpa', 'Messi,', 'skor', '2', '0', 'bertahan', 'hingga', 'babak', 'pertama', 'berakhir.']\n"
     ]
    }
   ],
   "source": [
    "paragraf = \"Barcelona berhasil merebut posisi puncak klasemen La Liga Spanyol seusai menang 4-2 atas Sevilla pada pertandingan pekan kesembilan di Stadion Camp Nou, Sabtu (20/10/2018) atau Minggu dini hari WIB. Barcelona membuka keunggulan pada menit ke-2 melalui gol yang dicetak oleh Philippe Coutinho. Lionel Messi menggandakan keunggulan Barcelona, 10 menit berselang.  Namun, nahas bagi Barcelona, karena Messi harus ditarik keluar pada menit ke-26 setelah mengalami cedera. Tanpa Messi, skor 2-0 bertahan hingga babak pertama berakhir.\"\n",
    "paragraf = paragraf.replace(\"/\",\" \")\n",
    "paragraf = paragraf.replace(\"(\",\" \")\n",
    "paragraf = paragraf.replace(\")\",\" \")\n",
    "paragraf = paragraf.replace(\"-\",\" \")\n",
    "print(paragraf.split())"
   ]
  },
  {
   "cell_type": "code",
   "execution_count": 9,
   "metadata": {},
   "outputs": [
    {
     "data": {
      "text/plain": [
       "{'seusai': 1,\n",
       " 'Sevilla': 1,\n",
       " 'Tanpa': 1,\n",
       " 'menang': 1,\n",
       " '4': 1,\n",
       " 'Coutinho.': 1,\n",
       " 'cedera.': 1,\n",
       " 'kesembilan': 1,\n",
       " 'skor': 1,\n",
       " 'keunggulan': 2,\n",
       " 'menit': 3,\n",
       " 'menggandakan': 1,\n",
       " 'posisi': 1,\n",
       " 'Minggu': 1,\n",
       " 'hari': 1,\n",
       " 'setelah': 1,\n",
       " 'Liga': 1,\n",
       " 'hingga': 1,\n",
       " 'melalui': 1,\n",
       " 'merebut': 1,\n",
       " '0': 1,\n",
       " 'Namun,': 1,\n",
       " 'nahas': 1,\n",
       " 'Barcelona': 2,\n",
       " 'ke': 2,\n",
       " 'gol': 1,\n",
       " 'Messi': 2,\n",
       " '20': 1,\n",
       " 'dini': 1,\n",
       " 'karena': 1,\n",
       " 'pertandingan': 1,\n",
       " 'mengalami': 1,\n",
       " 'La': 1,\n",
       " 'Philippe': 1,\n",
       " 'WIB.': 1,\n",
       " '2018': 1,\n",
       " 'yang': 1,\n",
       " 'klasemen': 1,\n",
       " 'pekan': 1,\n",
       " 'keluar': 1,\n",
       " 'babak': 1,\n",
       " 'dicetak': 1,\n",
       " 'bertahan': 1,\n",
       " 'pada': 3,\n",
       " 'Nou,': 1,\n",
       " 'pertama': 1,\n",
       " 'Stadion': 1,\n",
       " 'membuka': 1,\n",
       " 'Lionel': 1,\n",
       " 'Sabtu': 1,\n",
       " 'ditarik': 1,\n",
       " 'oleh': 1,\n",
       " 'berakhir.': 1,\n",
       " '26': 1,\n",
       " 'harus': 1,\n",
       " 'Messi,': 1,\n",
       " 'di': 1,\n",
       " 'Barcelona,': 2,\n",
       " 'atau': 1,\n",
       " 'atas': 1,\n",
       " 'bagi': 1,\n",
       " '10': 2,\n",
       " '2': 3,\n",
       " 'Spanyol': 1,\n",
       " 'berhasil': 1,\n",
       " 'Camp': 1,\n",
       " 'puncak': 1,\n",
       " 'berselang.': 1}"
      ]
     },
     "execution_count": 9,
     "metadata": {},
     "output_type": "execute_result"
    }
   ],
   "source": [
    "#Calcuate each word quantity\n",
    "splitted = paragraf.split() #splitting paragraph up as word\n",
    "as_dictionary = set(splitted) #result of splitted (word entities)\n",
    "# print(as_dictionary)\n",
    "n = {} #buffer\n",
    "for i in as_dictionary:\n",
    "    n[i] = splitted.count(i)\n",
    "n"
   ]
  },
  {
   "cell_type": "code",
   "execution_count": null,
   "metadata": {},
   "outputs": [],
   "source": []
  }
 ],
 "metadata": {
  "kernelspec": {
   "display_name": "Python 3",
   "language": "python",
   "name": "python3"
  },
  "language_info": {
   "codemirror_mode": {
    "name": "ipython",
    "version": 3
   },
   "file_extension": ".py",
   "mimetype": "text/x-python",
   "name": "python",
   "nbconvert_exporter": "python",
   "pygments_lexer": "ipython3",
   "version": "3.6.6"
  }
 },
 "nbformat": 4,
 "nbformat_minor": 2
}
