{
 "cells": [
  {
   "cell_type": "code",
   "execution_count": 2,
   "metadata": {},
   "outputs": [
    {
     "name": "stdout",
     "output_type": "stream",
     "text": [
      "['20150328.export.CSV', '20150321.export.CSV', '20150330.export.CSV', '20150304.export.CSV', '20150331.export.CSV', '20150329.export.CSV', '20150319.export.CSV', '20150302.export.CSV', '20150326.export.CSV', '20150312.export.CSV', '20150307.export.CSV', '20150318.export.CSV', '20150310.export.CSV', '20150305.export.CSV', '20150311.export.CSV', '20150313.export.CSV', '20150301.export.CSV', '20150309.export.CSV', '20150317.export.CSV', '20150324.export.CSV', '20150322.export.CSV', '20150303.export.CSV', '20150316.export.CSV', '20150323.export.CSV', '20150306.export.CSV', '20150308.export.CSV', '20150325.export.CSV', '20150314.export.CSV', '20150320.export.CSV', '20150315.export.CSV', '20150327.export.CSV']\n",
      "Extracted 20150328.export.CSV\n",
      "Extracted 20150321.export.CSV\n",
      "Extracted 20150330.export.CSV\n",
      "Extracted 20150304.export.CSV\n",
      "Extracted 20150331.export.CSV\n",
      "Extracted 20150329.export.CSV\n",
      "Extracted 20150319.export.CSV\n",
      "Extracted 20150302.export.CSV\n",
      "Extracted 20150326.export.CSV\n",
      "Extracted 20150312.export.CSV\n",
      "Extracted 20150307.export.CSV\n",
      "Extracted 20150318.export.CSV\n",
      "Extracted 20150310.export.CSV\n",
      "Extracted 20150305.export.CSV\n",
      "Extracted 20150311.export.CSV\n",
      "Extracted 20150313.export.CSV\n",
      "Extracted 20150301.export.CSV\n",
      "Extracted 20150309.export.CSV\n",
      "Extracted 20150317.export.CSV\n",
      "Extracted 20150324.export.CSV\n",
      "Extracted 20150322.export.CSV\n",
      "Extracted 20150303.export.CSV\n",
      "Extracted 20150316.export.CSV\n",
      "Extracted 20150323.export.CSV\n",
      "Extracted 20150306.export.CSV\n",
      "Extracted 20150308.export.CSV\n",
      "Extracted 20150325.export.CSV\n",
      "Extracted 20150314.export.CSV\n",
      "Extracted 20150320.export.CSV\n",
      "Extracted 20150315.export.CSV\n",
      "Extracted 20150327.export.CSV\n"
     ]
    }
   ],
   "source": [
    "#DISABLE this timer to look the output\n",
    "# class timeit():\n",
    "#     from datetime import datetime\n",
    "#     def __enter__(self):\n",
    "#         self.tic = self.datetime.now()\n",
    "#     def __exit__(self, *args, **kwargs):\n",
    "#         print('runtime: {}'.format(self.datetime.now() - self.tic))\n",
    "#############TIMER#########################        \n",
    "        \n",
    "#Import data and giving header\n",
    "#folderfile listing\n",
    "from os import listdir\n",
    "from os.path import isfile, join\n",
    "import pandas as pd\n",
    "\n",
    "folder_id = '/home/makino/Documents/Digitalent scholarship/Git-link/gdelt-project/DATA_GDELT/03/' #Tempat Folder DATA\n",
    "files = [f for f in listdir(folder_id) if isfile(join(folder_id, f))]\n",
    "print(files)\n",
    "\n",
    "for berkas in files: \n",
    "    # Important: If your ID0000.tsv contains header, you can delete the header\n",
    "    df_satuan = pd.read_csv(folder_id + berkas, delimiter = \"\\t\", encoding = 'latin-1',error_bad_lines=False, \n",
    "                       header=None, low_memory=False,\n",
    "                       names = [\"GlobalEventId\", \"sqldate\", \"MonthYear\",\"Year\",\"FractionDate\",\n",
    "                               \"Actor1Code\",\"Actor1Name\",\"Actor1CountryCode\",\"Actor1KnownGroupCode\",\n",
    "                               \"Actor1EthnicCode\",\"Actor1Religion1Code\",\"Actor1Religion2Code\",\n",
    "                               \"Actor1Type1Code\",\"Actor1Type2Code\",\"Actor1Type3Code\",\"Actor2Code\",\n",
    "                               \"Actor2Name\",\"Actor2CountryCode\",\"Actor2KnownGroupCode\",\"Actor2EthnicCode\",\n",
    "                               \"Actor2Religion1Code\",\"Actor2Religion2Code\",\"Actor2Type1Code\",\"Actor2Type2Code\",\n",
    "                               \"Actor2Type3Code\",\"IsRootEvent\",\"EventCode\",\"EventBaseCode\",\"EventRootCode\",\n",
    "                               \"QuadClass\",\"GoldsteinScale\",\"NumMentions\",\"NumSources\",\"NumArticles\",\n",
    "                               \"AvgTone\",\"Actor1Geo_Type\",\"Actor1Geo_FullName\",\"Actor1Geo_CountryCode\",\n",
    "                               \"Actor1Geo_ADM1Code\",\"Actor1Geo_Lat\",\"Actor1Geo_Long\",\"Actor1Geo_FeatureID\",\n",
    "                               \"Actor2Geo_Type\",\"Actor2Geo_FullName\",\"Actor2Geo_CountryCode\",\"Actor2Geo_ADM1Code\",\n",
    "                               \"Actor2Geo_Lat\",\"Actor2Geo_Long\",\"Actor2Geo_FeatureID\",\"ActionGeo_Type\",\n",
    "                               \"ActionGeo_FullName\",\"ActionGeo_CountryCode\",\"ActionGeo_ADM1Code\",\n",
    "                               \"ActionGeo_Lat\",\"ActionGeo_Long\",\"ActionGeo_FeatureID\",\"DATEADDED\",\n",
    "                               \"SOURCEURL\"]) # melihat sampel isi data\n",
    "    #Filtering\n",
    "    pd.DataFrame(df_satuan[df_satuan.ActionGeo_CountryCode == 'ID']).to_csv('DATA/data_id.csv', index=False, header=None, mode='a')\n",
    "    #note: file DATA/data_id.csv will be appended by each loop. delete if want to restart the programme\n",
    "    print('Extracted ' + berkas)\n",
    "\n",
    "######TIMER######################\n",
    "# with timeit():\n",
    "#     # your code, e.g., \n",
    "#     print(sum(range(int(1e7))))"
   ]
  },
  {
   "cell_type": "code",
   "execution_count": 11,
   "metadata": {},
   "outputs": [
    {
     "data": {
      "text/plain": [
       "3        http://www.ctpost.com/news/crime/article/About-4-000-fishermen-stranded-on-Indonesian-6164107.php                                                              \n",
       "4        http://www.ctpost.com/news/crime/article/About-4-000-fishermen-stranded-on-Indonesian-6164107.php                                                              \n",
       "5        http://www.ctpost.com/news/crime/article/About-4-000-fishermen-stranded-on-Indonesian-6164107.php                                                              \n",
       "6        http://www.ctpost.com/news/crime/article/About-4-000-fishermen-stranded-on-Indonesian-6164107.php                                                              \n",
       "10       http://www.ctpost.com/news/crime/article/About-4-000-fishermen-stranded-on-Indonesian-6164107.php                                                              \n",
       "11       http://www.theeagle.com/news/world/about-fishermen-stranded-on-indonesian-islands/article_b8f8054b-d213-5f86-a0b8-b2d40fec83e5.html                            \n",
       "14       http://www.ctpost.com/news/crime/article/About-4-000-fishermen-stranded-on-Indonesian-6164107.php                                                              \n",
       "15       http://www.ctpost.com/news/crime/article/About-4-000-fishermen-stranded-on-Indonesian-6164107.php                                                              \n",
       "16       http://www.theeagle.com/news/world/about-fishermen-stranded-on-indonesian-islands/article_b8f8054b-d213-5f86-a0b8-b2d40fec83e5.html                            \n",
       "21       http://thejakartaglobe.beritasatu.com/business/sinar-mas-inks-loan-deal-chinese-banks/                                                                         \n",
       "27       http://thejakartaglobe.beritasatu.com/news/district-chief-west-java-arrested-graft-charges/                                                                    \n",
       "31       http://en.ce.cn/main/latest/201503/28/t20150328_4960204.shtml                                                                                                  \n",
       "35       http://thejakartaglobe.beritasatu.com/business/finance-authority-kicks-off-branchless-banking-program-rural-areas/                                             \n",
       "38       http://thejakartaglobe.beritasatu.com/business/aberdeen-start-offering-mutual-funds-q2-pending-ojks-green-light/                                               \n",
       "39       http://thejakartaglobe.beritasatu.com/features/senior-designers-fresh-as-ever/                                                                                 \n",
       "40       http://thejakartaglobe.beritasatu.com/business/sinar-mas-inks-loan-deal-chinese-banks/                                                                         \n",
       "42       http://thejakartaglobe.beritasatu.com/news/fortune-ranks-surabaya-mayor-risma-among-worlds-greatest-leaders/                                                   \n",
       "47       http://thejakartaglobe.beritasatu.com/features/senior-designers-fresh-as-ever/                                                                                 \n",
       "48       http://thejakartaglobe.beritasatu.com/features/senior-designers-fresh-as-ever/                                                                                 \n",
       "49       http://thejakartaglobe.beritasatu.com/features/senior-designers-fresh-as-ever/                                                                                 \n",
       "50       http://thejakartaglobe.beritasatu.com/business/sinar-mas-inks-loan-deal-chinese-banks/                                                                         \n",
       "52       http://thejakartaglobe.beritasatu.com/business/sinar-mas-inks-loan-deal-chinese-banks/                                                                         \n",
       "53       http://thejakartaglobe.beritasatu.com/business/sinar-mas-inks-loan-deal-chinese-banks/                                                                         \n",
       "54       http://thejakartaglobe.beritasatu.com/business/sinar-mas-inks-loan-deal-chinese-banks/                                                                         \n",
       "55       http://thejakartaglobe.beritasatu.com/business/sinar-mas-inks-loan-deal-chinese-banks/                                                                         \n",
       "63       http://thejakartaglobe.beritasatu.com/business/flush-hajj-money-indonesia-islamic-banks-see-loans-tripling/                                                    \n",
       "82       http://thejakartaglobe.beritasatu.com/news/district-chief-west-java-arrested-graft-charges/                                                                    \n",
       "86       http://www.portstephensexaminer.com.au/story/2975334/triggs-defends-350000-compensation-recommendation-for-refugee-who-killed-wife/?cs=4152                    \n",
       "88       http://kdwn.com/2015/03/27/about-4000-fishermen-stranded-on-indonesian-islands/                                                                                \n",
       "93       http://thejakartaglobe.beritasatu.com/business/aberdeen-start-offering-mutual-funds-q2-pending-ojks-green-light/                                               \n",
       "                                                               ...                                                                                                      \n",
       "38320    http://www.sepakbola.com/2015/03/soal-penjualan-de-bruyne-ke-wolfsburg-ini-penilaian-hazard                                                                    \n",
       "38321    http://fis.com/fis/worldnews/search_brief.asp?l=e&id=75470&ndb=1                                                                                               \n",
       "38322    http://fis.com/fis/worldnews/search_brief.asp?l=e&id=75470&ndb=1                                                                                               \n",
       "38329    http://www.halesowennews.co.uk/newsxtra/travel/11885681.display/                                                                                               \n",
       "38330    http://www.halesowennews.co.uk/newsxtra/travel/11885681.display/                                                                                               \n",
       "38352    http://www.rferl.org/content/islamic-state-make-jihad-not-love-militant-future-wife/26924350.html                                                              \n",
       "38361    http://www.manilatimes.net/dfa-not-giving-up-to-save-doomed-pinay/172390/                                                                                      \n",
       "38365    http://www.manilatimes.net/dfa-not-giving-up-to-save-doomed-pinay/172390/                                                                                      \n",
       "38387    http://www.travelpod.com/travel-blog-entries/haplessmis151/1/1427481721/tpod.html                                                                              \n",
       "38388    http://www.newscientist.com/article/mg22530140.200-natural-disaster-amnesia-threats-we-choose-to-forget.html?cmpid=RSS%7CNSNS%7C2012-GLOBAL%7Conline-news      \n",
       "38389    http://www.newscientist.com/article/mg22530140.200-natural-disaster-amnesia-threats-we-choose-to-forget.html?cmpid=RSS%7CNSNS%7C2012-GLOBAL%7Conline-news      \n",
       "38391    http://www.newscientist.com/article/mg22530140.200-natural-disaster-amnesia-threats-we-choose-to-forget.html?cmpid=RSS%7CNSNS%7C2012-GLOBAL%7Conline-news      \n",
       "38392    http://www.newscientist.com/article/mg22530140.200-natural-disaster-amnesia-threats-we-choose-to-forget.html?cmpid=RSS%7CNSNS%7C2012-GLOBAL%7Conline-news      \n",
       "38394    http://www.legalbusinessonline.com/ihs/indonesia-ihls-2015                                                                                                     \n",
       "38395    http://www.legalbusinessonline.com/ihs/indonesia-ihls-2015                                                                                                     \n",
       "38404    http://www.thefrontierpost.com/article/274754/taking-fright-and-flight/                                                                                        \n",
       "38416    http://www.fijitimes.com/story.aspx?id=299840                                                                                                                  \n",
       "38446    http://usa.chinadaily.com.cn/china/2015-03/28/content_19934784.htm                                                                                             \n",
       "38451    http://hosted2.ap.org/APDEFAULT/cae69a7523db45408eeb2b3a98c0c9c5/Article_2015-03-27-Seafood%20from%20Slaves/id-8d9753f411b34146ae7f1ebab2ca84c2                \n",
       "38452    http://www.startribune.com/world/297846411.html                                                                                                                \n",
       "38453    http://www.startribune.com/world/297846411.html                                                                                                                \n",
       "38454    http://www.startribune.com/world/297846411.html                                                                                                                \n",
       "38457    http://hosted2.ap.org/APDEFAULT/cae69a7523db45408eeb2b3a98c0c9c5/Article_2015-03-27-Seafood%20from%20Slaves/id-8d9753f411b34146ae7f1ebab2ca84c2                \n",
       "38458    http://www.washingtonpost.com/world/asia_pacific/about-4000-fishermen-stranded-on-indonesian-islands/2015/03/27/08b6d020-d4d6-11e4-8b1e-274d670aa9c9_story.html\n",
       "38460    http://www.startribune.com/world/297846411.html                                                                                                                \n",
       "38461    http://www.startribune.com/world/297846411.html                                                                                                                \n",
       "38462    http://hosted2.ap.org/APDEFAULT/cae69a7523db45408eeb2b3a98c0c9c5/Article_2015-03-27-Seafood%20from%20Slaves/id-8d9753f411b34146ae7f1ebab2ca84c2                \n",
       "38463    http://www.washingtonpost.com/world/asia_pacific/about-4000-fishermen-stranded-on-indonesian-islands/2015/03/27/08b6d020-d4d6-11e4-8b1e-274d670aa9c9_story.html\n",
       "38464    http://www.chinadaily.com.cn/china/2015-03/28/content_19934779.htm                                                                                             \n",
       "38465    http://wlns.com/ap/about-4000-fishermen-stranded-on-indonesian-islands/                                                                                        \n",
       "Name: SOURCEURL, Length: 4351, dtype: object"
      ]
     },
     "execution_count": 11,
     "metadata": {},
     "output_type": "execute_result"
    }
   ],
   "source": [
    "# import pandas as pd\n",
    "# pd.set_option('display.width', 1000)\n",
    "pd.set_option('display.max_colwidth', -1)\n",
    "#TEST READ OUTPUT\n",
    "data_raw_id = pd.read_csv('DATA/data_id.csv', delimiter = \",\", encoding = 'latin-1',error_bad_lines=False, \n",
    "                       header=None, low_memory=False,\n",
    "                       names = [\"GlobalEventId\", \"sqldate\", \"MonthYear\",\"Year\",\"FractionDate\",\n",
    "                               \"Actor1Code\",\"Actor1Name\",\"Actor1CountryCode\",\"Actor1KnownGroupCode\",\n",
    "                               \"Actor1EthnicCode\",\"Actor1Religion1Code\",\"Actor1Religion2Code\",\n",
    "                               \"Actor1Type1Code\",\"Actor1Type2Code\",\"Actor1Type3Code\",\"Actor2Code\",\n",
    "                               \"Actor2Name\",\"Actor2CountryCode\",\"Actor2KnownGroupCode\",\"Actor2EthnicCode\",\n",
    "                               \"Actor2Religion1Code\",\"Actor2Religion2Code\",\"Actor2Type1Code\",\"Actor2Type2Code\",\n",
    "                               \"Actor2Type3Code\",\"IsRootEvent\",\"EventCode\",\"EventBaseCode\",\"EventRootCode\",\n",
    "                               \"QuadClass\",\"GoldsteinScale\",\"NumMentions\",\"NumSources\",\"NumArticles\",\n",
    "                               \"AvgTone\",\"Actor1Geo_Type\",\"Actor1Geo_FullName\",\"Actor1Geo_CountryCode\",\n",
    "                               \"Actor1Geo_ADM1Code\",\"Actor1Geo_Lat\",\"Actor1Geo_Long\",\"Actor1Geo_FeatureID\",\n",
    "                               \"Actor2Geo_Type\",\"Actor2Geo_FullName\",\"Actor2Geo_CountryCode\",\"Actor2Geo_ADM1Code\",\n",
    "                               \"Actor2Geo_Lat\",\"Actor2Geo_Long\",\"Actor2Geo_FeatureID\",\"ActionGeo_Type\",\n",
    "                               \"ActionGeo_FullName\",\"ActionGeo_CountryCode\",\"ActionGeo_ADM1Code\",\n",
    "                               \"ActionGeo_Lat\",\"ActionGeo_Long\",\"ActionGeo_FeatureID\",\"DATEADDED\",\n",
    "                               \"SOURCEURL\"])\n",
    "# data_raw_id\n",
    "data_om = data_raw_id[data_raw_id.GoldsteinScale > 5]\n",
    "data_om['SOURCEURL']"
   ]
  },
  {
   "cell_type": "code",
   "execution_count": null,
   "metadata": {},
   "outputs": [],
   "source": [
    "###dibawah ini nggek dipake###\n",
    "data_raw_id = pd.read_csv('DATA/data_id.csv', delimiter = \",\", encoding = 'latin-1',error_bad_lines=False, \n",
    "                       header=None, low_memory=False,\n",
    "                       names = [\"GlobalEventId\", \"sqldate\", \"MonthYear\",\"Year\",\"FractionDate\",\"Actor1Code\",\"Actor1Name\",\"Actor1CountryCode\",\"ctor1KnownGroupCode\", \"Actor1EthnicCode\",\"Actor1Religion1Code\",\"Actor1Religion2Code\", \"Actor1Type1Code\",\"Actor1Type2Code\",\"Actor1Type3Code\",\"ctor2Code\",\"Actor2Name\",\"Actor2CountryCode\",\"Actor2KnownGroupCode\",\"Actor2EthnicCode\",\"Actor2Religion1Code\",\"Actor2Religion2Code\",\"Actor2Type1Code\",\"Actor2Type2Code\",\"Actor2Type3Code\",\"IsRootEvent\",\"EventCode\",\"EventBaseCode\",\"EventRootCode\", \"QuadClass\",\"GoldsteinScale\",\"NumMentions\",\"NumSources\",\"NumArticles\", \"AvgTone\",\"Actor1Geo_Type\",\"Actor1Geo_FullName\",\"Actor1Geo_CountryCode\",\"Actor1Geo_ADM1Code\",\"Actor1Geo_Lat\",\"Actor1Geo_Long\",\"Actor1Geo_FeatureID\",\"Actor2Geo_Type\",\"Actor2Geo_FullName\",\"Actor2Geo_CountryCode\",\"Actor2Geo_ADM1Code\",\n",
    "                               \"Actor2Geo_Lat\",\"Actor2Geo_Long\",\"Actor2Geo_FeatureID\",\"ActionGeo_Type\",\n",
    "                               \"ActionGeo_FullName\",\"ActionGeo_CountryCode\",\"ActionGeo_ADM1Code\",\n",
    "                               \"ActionGeo_Lat\",\"ActionGeo_Long\",\"ActionGeo_FeatureID\",\"DATEADDED\",\n",
    "                               \"SOURCEURL\"])"
   ]
  },
  {
   "cell_type": "code",
   "execution_count": 9,
   "metadata": {},
   "outputs": [
    {
     "data": {
      "text/plain": [
       "<newspaper.source.Source at 0x7f2a54446cf8>"
      ]
     },
     "execution_count": 9,
     "metadata": {},
     "output_type": "execute_result"
    }
   ],
   "source": [
    "import newspaper\n",
    "newspaper.build('https://news.detik.com/berita/d-4286960/keluarga-awak-pesawat-lion-air-pk-lqp-akan-disantuni-usd-100000')"
   ]
  },
  {
   "cell_type": "code",
   "execution_count": 7,
   "metadata": {},
   "outputs": [
    {
     "data": {
      "text/plain": [
       "<newspaper.source.Source at 0x7f2a543ae5c0>"
      ]
     },
     "execution_count": 7,
     "metadata": {},
     "output_type": "execute_result"
    }
   ],
   "source": []
  },
  {
   "cell_type": "code",
   "execution_count": 17,
   "metadata": {},
   "outputs": [
    {
     "name": "stdout",
     "output_type": "stream",
     "text": [
      "#Data Pada 2012#\n",
      "       PENUMPANG_MASUK  PENUMPANG_KELUAR\n",
      "count               12                12\n",
      "mean            200779            423137\n",
      "std              35301             31803\n",
      "min             150203            376304\n",
      "25%             184390            410436\n",
      "50%             192115            420388\n",
      "75%             213197            437530\n",
      "max             264238            502725\n",
      "#Data Pada 2013#\n",
      "       PENUMPANG_MASUK  PENUMPANG_KELUAR\n",
      "count               12                12\n",
      "mean            194505            194505\n",
      "std              25802             25802\n",
      "min             150203            150203\n",
      "25%             187803            187803\n",
      "50%             190126            190126\n",
      "75%             194876            194876\n",
      "max             264238            264238\n",
      "#Data Pada 2014#\n",
      "       PENUMPANG_MASUK  PENUMPANG_KELUAR\n",
      "count               11                11\n",
      "mean            191656            356727\n",
      "std              45066             60234\n",
      "min             124983            271615\n",
      "25%             165772            324039\n",
      "50%             179209            351936\n",
      "75%             205343            369318\n",
      "max             271335            507731\n"
     ]
    }
   ],
   "source": [
    "# data_penumpang=data_raw.iloc[0:34]\n",
    "# data_penumpang_pertahun = data_penumpang.groupby(['TAHUN','BULAN'])\n",
    "#data_penumpang = data_penumpang_pertahun[['PENUMPANG_MASUK','PENUMPANG_KELUAR']]\n",
    "###################################\n",
    "#PREPROCESSING\n",
    "#EXTRACTING DATA\n",
    "data_p_2012 = data_raw[data_raw.TAHUN == 2012][['TAHUN','BULAN','PENUMPANG_MASUK','PENUMPANG_KELUAR']]\n",
    "data_p_2013 = data_raw[data_raw.TAHUN == 2013][['TAHUN','BULAN','PENUMPANG_MASUK','PENUMPANG_KELUAR']]\n",
    "data_p_2014 = data_raw[data_raw.TAHUN == 2014][['TAHUN','BULAN','PENUMPANG_MASUK','PENUMPANG_KELUAR']]\n",
    "#Stat each year\n",
    "\n",
    "print(\"#Data Pada 2012#\")\n",
    "print(data_p_2012[['PENUMPANG_MASUK','PENUMPANG_KELUAR']].describe().astype(int))\n",
    "print(\"#Data Pada 2013#\")\n",
    "print(data_p_2013[['PENUMPANG_MASUK','PENUMPANG_KELUAR']].describe().astype(int))\n",
    "print(\"#Data Pada 2014#\")\n",
    "print(data_p_2014[['PENUMPANG_MASUK','PENUMPANG_KELUAR']].describe().astype(int))"
   ]
  },
  {
   "cell_type": "code",
   "execution_count": 31,
   "metadata": {},
   "outputs": [],
   "source": [
    "# import pandas as pd\n",
    "df = pd.read_html('https://coinmarketcap.com/currencies/bitcoin/historical-data/?start=20130428&end=20170812')\n",
    "data = pd.DataFrame(df)\n",
    "data.to_csv('test.csv', index=False)"
   ]
  },
  {
   "cell_type": "code",
   "execution_count": 12,
   "metadata": {},
   "outputs": [],
   "source": [
    "pd.DataFrame(pd.read_html('https://coinmarketcap.com/currencies/bitcoin/historical-data/?start=20130428&end=20170812')).to_csv('test.csv', index=False,header=False)\n",
    "pd.read_csv('test.csv', delimiter = ', \"\"')"
   ]
  },
  {
   "cell_type": "code",
   "execution_count": null,
   "metadata": {},
   "outputs": [],
   "source": [
    "\n",
    "from newspaper import Article \n",
    "  \n",
    "#A new article from TOI \n",
    "url = \"https://www.bbc.com/news/business-46088852\"\n",
    "  \n",
    "#For different language newspaper refer above table \n",
    "toi_article = Article(url, language=\"en\") # en for English \n",
    "  \n",
    "#To download the article \n",
    "toi_article.download() \n",
    "  \n",
    "#To parse the article \n",
    "toi_article.parse() \n",
    "  \n",
    "#To perform natural language processing ie..nlp \n",
    "toi_article.nlp() \n",
    "  \n",
    "#To extract title \n",
    "print(\"Article's Title:\") \n",
    "print(toi_article.title) \n",
    "print(\"n\") \n",
    "  \n",
    "#To extract text \n",
    "print(\"Article's Text:\") \n",
    "print(toi_article.text) \n",
    "print(\"n\") \n",
    "  \n",
    "#To extract summary \n",
    "print(\"Article's Summary:\") \n",
    "print(toi_article.summary) \n",
    "print(\"n\") \n",
    "  \n",
    "#To extract keywords \n",
    "print(\"Article's Keywords:\") \n",
    "print(toi_article.keywords) \n"
   ]
  },
  {
   "cell_type": "code",
   "execution_count": null,
   "metadata": {},
   "outputs": [],
   "source": []
  }
 ],
 "metadata": {
  "kernelspec": {
   "display_name": "Python 3",
   "language": "python",
   "name": "python3"
  },
  "language_info": {
   "codemirror_mode": {
    "name": "ipython",
    "version": 3
   },
   "file_extension": ".py",
   "mimetype": "text/x-python",
   "name": "python",
   "nbconvert_exporter": "python",
   "pygments_lexer": "ipython3",
   "version": "3.6.6"
  }
 },
 "nbformat": 4,
 "nbformat_minor": 2
}
