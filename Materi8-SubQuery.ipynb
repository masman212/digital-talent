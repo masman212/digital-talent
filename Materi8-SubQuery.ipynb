{
 "cells": [
  {
   "cell_type": "markdown",
   "metadata": {},
   "source": [
    "## Koneksi"
   ]
  },
  {
   "cell_type": "code",
   "execution_count": 6,
   "metadata": {},
   "outputs": [],
   "source": [
    "import pymysql\n",
    "import pandas as pd\n",
    "from sqlalchemy import create_engine\n",
    "\n",
    "host = '127.0.0.1'\n",
    "port = \"3307\"\n",
    "user = 'root'\n",
    "password = 'rahasia'\n",
    "database = 'classicmodels'\n",
    "\n",
    "engine = create_engine('mysql+pymysql://'+user+':'+password+'@'+host+':'+port+'/'+database)\n",
    "\n",
    "# conn = pymysql.connect(\n",
    "#     host=host,\n",
    "#     port=int(port),\n",
    "#     user=user,\n",
    "#     passwd=password,\n",
    "#     db=database,\n",
    "#     charset='utf8mb4')\n",
    "\n",
    "def run(sql):\n",
    "    df = pd.read_sql_query(sql,engine)\n",
    "    return df"
   ]
  },
  {
   "cell_type": "markdown",
   "metadata": {},
   "source": [
    "## Baca File CSV"
   ]
  },
  {
   "cell_type": "code",
   "execution_count": 8,
   "metadata": {},
   "outputs": [
    {
     "data": {
      "text/html": [
       "<div>\n",
       "<style scoped>\n",
       "    .dataframe tbody tr th:only-of-type {\n",
       "        vertical-align: middle;\n",
       "    }\n",
       "\n",
       "    .dataframe tbody tr th {\n",
       "        vertical-align: top;\n",
       "    }\n",
       "\n",
       "    .dataframe thead th {\n",
       "        text-align: right;\n",
       "    }\n",
       "</style>\n",
       "<table border=\"1\" class=\"dataframe\">\n",
       "  <thead>\n",
       "    <tr style=\"text-align: right;\">\n",
       "      <th></th>\n",
       "      <th>Country</th>\n",
       "      <th>Age</th>\n",
       "      <th>Salary</th>\n",
       "      <th>Purchased</th>\n",
       "    </tr>\n",
       "  </thead>\n",
       "  <tbody>\n",
       "    <tr>\n",
       "      <th>0</th>\n",
       "      <td>France</td>\n",
       "      <td>44.0</td>\n",
       "      <td>72000.0</td>\n",
       "      <td>No</td>\n",
       "    </tr>\n",
       "    <tr>\n",
       "      <th>1</th>\n",
       "      <td>Spain</td>\n",
       "      <td>27.0</td>\n",
       "      <td>48000.0</td>\n",
       "      <td>Yes</td>\n",
       "    </tr>\n",
       "    <tr>\n",
       "      <th>2</th>\n",
       "      <td>Germany</td>\n",
       "      <td>30.0</td>\n",
       "      <td>54000.0</td>\n",
       "      <td>No</td>\n",
       "    </tr>\n",
       "    <tr>\n",
       "      <th>3</th>\n",
       "      <td>Spain</td>\n",
       "      <td>38.0</td>\n",
       "      <td>61000.0</td>\n",
       "      <td>No</td>\n",
       "    </tr>\n",
       "    <tr>\n",
       "      <th>4</th>\n",
       "      <td>Germany</td>\n",
       "      <td>40.0</td>\n",
       "      <td>NaN</td>\n",
       "      <td>Yes</td>\n",
       "    </tr>\n",
       "  </tbody>\n",
       "</table>\n",
       "</div>"
      ],
      "text/plain": [
       "   Country   Age   Salary Purchased\n",
       "0   France  44.0  72000.0        No\n",
       "1    Spain  27.0  48000.0       Yes\n",
       "2  Germany  30.0  54000.0        No\n",
       "3    Spain  38.0  61000.0        No\n",
       "4  Germany  40.0      NaN       Yes"
      ]
     },
     "execution_count": 8,
     "metadata": {},
     "output_type": "execute_result"
    }
   ],
   "source": [
    "file_p = 'Data.csv'\n",
    "data_df = pd.read_csv(file_p)\n",
    "data_df.head()"
   ]
  },
  {
   "cell_type": "markdown",
   "metadata": {},
   "source": [
    "## Insert data to MySQL"
   ]
  },
  {
   "cell_type": "code",
   "execution_count": 32,
   "metadata": {},
   "outputs": [],
   "source": [
    "data_df.to_sql('dt_0111',con=engine,if_exists='replace',index=False)\n",
    "# fail / replace / append\n",
    "#index false supaya index pada dataframe tidak masuk ke dalam mysql"
   ]
  },
  {
   "cell_type": "markdown",
   "metadata": {},
   "source": [
    "## Fetch Data"
   ]
  },
  {
   "cell_type": "code",
   "execution_count": 31,
   "metadata": {},
   "outputs": [
    {
     "data": {
      "text/plain": [
       "[('France', 44.0, 72000.0, 'No'),\n",
       " ('Spain', 27.0, 48000.0, 'Yes'),\n",
       " ('Germany', 30.0, 54000.0, 'No'),\n",
       " ('Spain', 38.0, 61000.0, 'No'),\n",
       " ('Germany', 40.0, None, 'Yes'),\n",
       " ('France', 35.0, 58000.0, 'Yes'),\n",
       " ('Spain', None, 52000.0, 'No'),\n",
       " ('France', 48.0, 79000.0, 'Yes'),\n",
       " ('Germany', 50.0, 83000.0, 'No'),\n",
       " ('France', 37.0, 67000.0, 'Yes')]"
      ]
     },
     "execution_count": 31,
     "metadata": {},
     "output_type": "execute_result"
    }
   ],
   "source": [
    "engine.execute(\"select * from dt_0111\").fetchall()"
   ]
  },
  {
   "cell_type": "markdown",
   "metadata": {},
   "source": [
    "## Baca Data Dalam Bentuk Tabel"
   ]
  },
  {
   "cell_type": "code",
   "execution_count": 29,
   "metadata": {},
   "outputs": [
    {
     "name": "stdout",
     "output_type": "stream",
     "text": [
      "   Country   Age   Salary Purchased\n",
      "0   France  44.0  72000.0        No\n",
      "1    Spain  27.0  48000.0       Yes\n",
      "2  Germany  30.0  54000.0        No\n",
      "3    Spain  38.0  61000.0        No\n",
      "4  Germany  40.0      NaN       Yes\n",
      "5   France  35.0  58000.0       Yes\n",
      "6    Spain   NaN  52000.0        No\n",
      "7   France  48.0  79000.0       Yes\n",
      "8  Germany  50.0  83000.0        No\n",
      "9   France  37.0  67000.0       Yes\n"
     ]
    }
   ],
   "source": [
    "df_results = run(\"select * from dt_0111\")\n",
    "print(df_results)"
   ]
  },
  {
   "cell_type": "raw",
   "metadata": {},
   "source": [
    "# Subquery\n",
    "\n",
    "Kita bisa membuat sebuah query yang berada di dalam query yang lain.\n",
    "Hal ini disebut dengan **subquery**\n"
   ]
  },
  {
   "cell_type": "code",
   "execution_count": 7,
   "metadata": {},
   "outputs": [
    {
     "data": {
      "text/html": [
       "<div>\n",
       "<style scoped>\n",
       "    .dataframe tbody tr th:only-of-type {\n",
       "        vertical-align: middle;\n",
       "    }\n",
       "\n",
       "    .dataframe tbody tr th {\n",
       "        vertical-align: top;\n",
       "    }\n",
       "\n",
       "    .dataframe thead th {\n",
       "        text-align: right;\n",
       "    }\n",
       "</style>\n",
       "<table border=\"1\" class=\"dataframe\">\n",
       "  <thead>\n",
       "    <tr style=\"text-align: right;\">\n",
       "      <th></th>\n",
       "      <th>lastName</th>\n",
       "      <th>firstName</th>\n",
       "    </tr>\n",
       "  </thead>\n",
       "  <tbody>\n",
       "    <tr>\n",
       "      <th>0</th>\n",
       "      <td>Murphy</td>\n",
       "      <td>Diane</td>\n",
       "    </tr>\n",
       "    <tr>\n",
       "      <th>1</th>\n",
       "      <td>Patterson</td>\n",
       "      <td>Mary</td>\n",
       "    </tr>\n",
       "    <tr>\n",
       "      <th>2</th>\n",
       "      <td>Firrelli</td>\n",
       "      <td>Jeff</td>\n",
       "    </tr>\n",
       "    <tr>\n",
       "      <th>3</th>\n",
       "      <td>Bow</td>\n",
       "      <td>Anthony</td>\n",
       "    </tr>\n",
       "    <tr>\n",
       "      <th>4</th>\n",
       "      <td>Jennings</td>\n",
       "      <td>Leslie</td>\n",
       "    </tr>\n",
       "    <tr>\n",
       "      <th>5</th>\n",
       "      <td>Thompson</td>\n",
       "      <td>Leslie</td>\n",
       "    </tr>\n",
       "    <tr>\n",
       "      <th>6</th>\n",
       "      <td>Firrelli</td>\n",
       "      <td>Julie</td>\n",
       "    </tr>\n",
       "    <tr>\n",
       "      <th>7</th>\n",
       "      <td>Patterson</td>\n",
       "      <td>Steve</td>\n",
       "    </tr>\n",
       "    <tr>\n",
       "      <th>8</th>\n",
       "      <td>Tseng</td>\n",
       "      <td>Foon Yue</td>\n",
       "    </tr>\n",
       "    <tr>\n",
       "      <th>9</th>\n",
       "      <td>Vanauf</td>\n",
       "      <td>George</td>\n",
       "    </tr>\n",
       "  </tbody>\n",
       "</table>\n",
       "</div>"
      ],
      "text/plain": [
       "    lastName firstName\n",
       "0     Murphy     Diane\n",
       "1  Patterson      Mary\n",
       "2   Firrelli      Jeff\n",
       "3        Bow   Anthony\n",
       "4   Jennings    Leslie\n",
       "5   Thompson    Leslie\n",
       "6   Firrelli     Julie\n",
       "7  Patterson     Steve\n",
       "8      Tseng  Foon Yue\n",
       "9     Vanauf    George"
      ]
     },
     "execution_count": 7,
     "metadata": {},
     "output_type": "execute_result"
    }
   ],
   "source": [
    "run(\"\"\"\n",
    "SELECT \n",
    "    lastName, firstName\n",
    "FROM\n",
    "    employees\n",
    "WHERE\n",
    "    officeCode IN (SELECT \n",
    "            officeCode\n",
    "        FROM\n",
    "            offices\n",
    "        WHERE\n",
    "            country = 'USA')\n",
    "\"\"\")"
   ]
  },
  {
   "cell_type": "raw",
   "metadata": {},
   "source": [
    "![subquery](https://www.mysqltutorial.org/wp-content/uploads/2013/02/mysql-subquery.gif"
   ]
  },
  {
   "cell_type": "raw",
   "metadata": {},
   "source": [
    "#Subquery di dalam Where Clause\n",
    "![subquery](http://www.mysqltutorial.org/wp-content/uploads/2013/05/payments_table.png)"
   ]
  },
  {
   "cell_type": "raw",
   "metadata": {},
   "source": [
    "##Menggunakan operator comparison"
   ]
  },
  {
   "cell_type": "code",
   "execution_count": null,
   "metadata": {},
   "outputs": [],
   "source": [
    "run(\"\"\"\n",
    "SELECT \n",
    "    customerNumber, checkNumber, amount\n",
    "FROM\n",
    "    payments\n",
    "WHERE\n",
    "    amount = (SELECT \n",
    "            MAX(amount)\n",
    "        FROM\n",
    "            payments);\n",
    "\"\"\")"
   ]
  },
  {
   "cell_type": "code",
   "execution_count": null,
   "metadata": {},
   "outputs": [],
   "source": [
    "run(\"\"\"\n",
    "SELECT \n",
    "    customerNumber, checkNumber, amount\n",
    "FROM\n",
    "    payments\n",
    "WHERE\n",
    "    amount > (SELECT \n",
    "            AVG(amount)\n",
    "        FROM\n",
    "            payments);\n",
    "\n",
    "\"\"\")"
   ]
  },
  {
   "cell_type": "raw",
   "metadata": {},
   "source": [
    "##Menggunakan Operator IN dan NOT IN\n",
    "![subquery](http://www.mysqltutorial.org/wp-content/uploads/2009/12/customers_orders_tables.png)"
   ]
  },
  {
   "cell_type": "code",
   "execution_count": null,
   "metadata": {},
   "outputs": [],
   "source": [
    "run(\"\"\"\n",
    "SELECT \n",
    "    customerName\n",
    "FROM\n",
    "    customers\n",
    "WHERE\n",
    "    customerNumber NOT IN (SELECT DISTINCT\n",
    "            customerNumber\n",
    "        FROM\n",
    "            orders);\n",
    "\n",
    "\n",
    "\"\"\")"
   ]
  },
  {
   "cell_type": "raw",
   "metadata": {},
   "source": [
    "#Subquery di dalam FROM\n",
    "Tujuannya ialah membuat tabel sementara yang tidak terdapat tabel dalam database tersebut"
   ]
  },
  {
   "cell_type": "code",
   "execution_count": null,
   "metadata": {},
   "outputs": [],
   "source": [
    "run(\"\"\"\n",
    "SELECT \n",
    "    MAX(items), MIN(items), FLOOR(AVG(items))\n",
    "FROM\n",
    "    (SELECT \n",
    "        orderNumber, COUNT(orderNumber) AS items\n",
    "    FROM\n",
    "        orderdetails\n",
    "    GROUP BY orderNumber) AS lineitems;\n",
    "\n",
    "\"\"\")"
   ]
  },
  {
   "cell_type": "raw",
   "metadata": {},
   "source": [
    "#Exist dan NonExists\n",
    "![subquery](http://www.mysqltutorial.org/wp-content/uploads/2011/05/orders_order_details_tables.png)"
   ]
  },
  {
   "cell_type": "code",
   "execution_count": null,
   "metadata": {},
   "outputs": [],
   "source": [
    "run(\"\"\"\n",
    "SELECT \n",
    "    customerNumber, \n",
    "    customerName\n",
    "FROM\n",
    "    customers\n",
    "WHERE\n",
    "    EXISTS( SELECT \n",
    "            orderNumber, SUM(priceEach * quantityOrdered)\n",
    "        FROM\n",
    "            orderdetails\n",
    "                INNER JOIN\n",
    "            orders USING (orderNumber)\n",
    "        WHERE\n",
    "            customerNumber = customers.customerNumber\n",
    "        GROUP BY orderNumber\n",
    "        HAVING SUM(priceEach * quantityOrdered) > 60000);\n",
    "\n",
    "\"\"\")"
   ]
  }
 ],
 "metadata": {
  "kernelspec": {
   "display_name": "Python 3",
   "language": "python",
   "name": "python3"
  },
  "language_info": {
   "codemirror_mode": {
    "name": "ipython",
    "version": 3
   },
   "file_extension": ".py",
   "mimetype": "text/x-python",
   "name": "python",
   "nbconvert_exporter": "python",
   "pygments_lexer": "ipython3",
   "version": "3.7.0"
  }
 },
 "nbformat": 4,
 "nbformat_minor": 2
}
