{
 "cells": [
  {
   "cell_type": "code",
   "execution_count": 1,
   "metadata": {},
   "outputs": [
    {
     "name": "stdout",
     "output_type": "stream",
     "text": [
      "testing\n"
     ]
    },
    {
     "data": {
      "text/plain": [
       "'testing'"
      ]
     },
     "execution_count": 1,
     "metadata": {},
     "output_type": "execute_result"
    }
   ],
   "source": [
    "input()"
   ]
  },
  {
   "cell_type": "code",
   "execution_count": null,
   "metadata": {},
   "outputs": [],
   "source": [
    "input(a)\n",
    "print(\"outputnya adalaaah\",a)"
   ]
  },
  {
   "cell_type": "code",
   "execution_count": null,
   "metadata": {},
   "outputs": [],
   "source": [
    "asd\n"
   ]
  },
  {
   "cell_type": "code",
   "execution_count": 3,
   "metadata": {},
   "outputs": [
    {
     "name": "stdout",
     "output_type": "stream",
     "text": [
      "testing\n",
      "outputnya adalaaah testing\n"
     ]
    }
   ],
   "source": [
    "a=input()\n",
    "print(\"outputnya adalaaah\",a)"
   ]
  },
  {
   "cell_type": "code",
   "execution_count": 4,
   "metadata": {},
   "outputs": [
    {
     "name": "stdout",
     "output_type": "stream",
     "text": [
      "testing\n"
     ]
    },
    {
     "ename": "TypeError",
     "evalue": "'a' is an invalid keyword argument for print()",
     "output_type": "error",
     "traceback": [
      "\u001b[1;31m---------------------------------------------------------------------------\u001b[0m",
      "\u001b[1;31mTypeError\u001b[0m                                 Traceback (most recent call last)",
      "\u001b[1;32m<ipython-input-4-8c4e647dc856>\u001b[0m in \u001b[0;36m<module>\u001b[1;34m()\u001b[0m\n\u001b[1;32m----> 1\u001b[1;33m \u001b[0mprint\u001b[0m\u001b[1;33m(\u001b[0m\u001b[1;34m\"inputnya adalah:\"\u001b[0m\u001b[1;33m,\u001b[0m\u001b[0ma\u001b[0m\u001b[1;33m=\u001b[0m\u001b[0minput\u001b[0m\u001b[1;33m(\u001b[0m\u001b[1;33m)\u001b[0m\u001b[1;33m)\u001b[0m\u001b[1;33m\u001b[0m\u001b[0m\n\u001b[0m",
      "\u001b[1;31mTypeError\u001b[0m: 'a' is an invalid keyword argument for print()"
     ]
    }
   ],
   "source": [
    "print(\"inputnya adalah:\",a=input())"
   ]
  },
  {
   "cell_type": "code",
   "execution_count": 9,
   "metadata": {},
   "outputs": [
    {
     "name": "stdout",
     "output_type": "stream",
     "text": [
      "inputnya adalah:\n",
      "123\n",
      "outputnya adalaaah 123\n"
     ]
    }
   ],
   "source": [
    "print(\"inputnya adalah:\")\n",
    "a=input()\n",
    "print(\"outputnya adalaaah\",a)"
   ]
  },
  {
   "cell_type": "code",
   "execution_count": 15,
   "metadata": {},
   "outputs": [
    {
     "name": "stdout",
     "output_type": "stream",
     "text": [
      "input your weight (kg):\n",
      "80\n",
      "input yout height (cm):\n",
      "170\n",
      "1.7 80.0 27.68166089965398\n"
     ]
    }
   ],
   "source": [
    "print(\"input your weight (kg):\")\n",
    "weight=float(input())\n",
    "print(\"input yout height (cm):\")\n",
    "height=float(input())\n",
    "height=height/100\n",
    "\n",
    "BMI=weight/(height**2)\n",
    "print(height,weight,BMI)"
   ]
  },
  {
   "cell_type": "code",
   "execution_count": 18,
   "metadata": {},
   "outputs": [
    {
     "ename": "SyntaxError",
     "evalue": "invalid syntax (<ipython-input-18-69052a7b7f45>, line 25)",
     "output_type": "error",
     "traceback": [
      "\u001b[1;36m  File \u001b[1;32m\"<ipython-input-18-69052a7b7f45>\"\u001b[1;36m, line \u001b[1;32m25\u001b[0m\n\u001b[1;33m    else\u001b[0m\n\u001b[1;37m         ^\u001b[0m\n\u001b[1;31mSyntaxError\u001b[0m\u001b[1;31m:\u001b[0m invalid syntax\n"
     ]
    }
   ],
   "source": [
    "print(\"input your weight (kg):\")\n",
    "weight=float(input())\n",
    "print(\"input yout height (cm):\")\n",
    "height=float(input())\n",
    "height=height/100\n",
    "#calc\n",
    "BMI=weight/(height**2)\n",
    "#print feedback\n",
    "print(\"your weight\",weight,\"Your height\",heigh,\"Your BMI: \",BMI,\"You are categorized as:\")\n",
    "#catagorizing\n",
    "if BMI<15:\n",
    "\tprint(\"Very severely underweight\")\n",
    "elif BMI<16:\n",
    "\tprint(\"Severely underweight\")\n",
    "elif BMI<18.5:\n",
    "\tprint(\"Underweight\")\n",
    "elif BMI<25:\n",
    "\tprint(\"Normal (healthy weight)\")\n",
    "elif BMI<30:\n",
    "\tprint(\"Overweight\")\n",
    "elif BMI<35:\n",
    "\tprint(\"Moderately obese\")\n",
    "elif BMI<40:\n",
    "\tprint(\"Severely obese\")\n",
    "else \n",
    "    print(\"Very severely obese\")"
   ]
  }
 ],
 "metadata": {
  "kernelspec": {
   "display_name": "Python 3",
   "language": "python",
   "name": "python3"
  },
  "language_info": {
   "codemirror_mode": {
    "name": "ipython",
    "version": 3
   },
   "file_extension": ".py",
   "mimetype": "text/x-python",
   "name": "python",
   "nbconvert_exporter": "python",
   "pygments_lexer": "ipython3",
   "version": "3.7.0"
  }
 },
 "nbformat": 4,
 "nbformat_minor": 2
}
