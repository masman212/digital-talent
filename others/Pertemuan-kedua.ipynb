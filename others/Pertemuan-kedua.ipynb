{
 "cells": [
  {
   "cell_type": "code",
   "execution_count": 1,
   "metadata": {},
   "outputs": [
    {
     "name": "stdout",
     "output_type": "stream",
     "text": [
      "[30, 40, 50, 60, 70, 80, 90]\n"
     ]
    }
   ],
   "source": [
    "nilai = [30,40,50,60,70,80,90]\n",
    "print(nilai)"
   ]
  },
  {
   "cell_type": "code",
   "execution_count": 2,
   "metadata": {},
   "outputs": [
    {
     "name": "stdout",
     "output_type": "stream",
     "text": [
      "[50, 60, 70]\n",
      "[30, 40]\n",
      "[80, 90]\n",
      "[30, 40, 50, 60, 70, 80, 90]\n"
     ]
    }
   ],
   "source": [
    "# elemen ke 3 sampai ke 5\n",
    "print(nilai[2:5])\n",
    "\n",
    "# .... \n",
    "print(nilai[:-5])\n",
    "\n",
    "# ....\n",
    "print(nilai[5:])\n",
    "\n",
    "# ...\n",
    "print(nilai[:])"
   ]
  },
  {
   "cell_type": "code",
   "execution_count": 3,
   "metadata": {},
   "outputs": [
    {
     "name": "stdout",
     "output_type": "stream",
     "text": [
      "[50, 60, 70, 80, 90]\n"
     ]
    }
   ],
   "source": [
    "print(nilai[-5:])"
   ]
  },
  {
   "cell_type": "code",
   "execution_count": 11,
   "metadata": {},
   "outputs": [
    {
     "name": "stdout",
     "output_type": "stream",
     "text": [
      "30\n",
      "40\n",
      "50\n",
      "60\n",
      "70\n",
      "80\n",
      "90\n",
      "0 30\n",
      "1 40\n",
      "2 50\n",
      "3 60\n",
      "4 70\n",
      "5 80\n",
      "6 90\n",
      "0 30\n",
      "1 40\n",
      "2 50\n",
      "3 60\n",
      "4 70\n",
      "5 80\n",
      "6 90\n"
     ]
    }
   ],
   "source": [
    "for n in nilai:\n",
    "    print(n)\n",
    "    \n",
    "#looping mengikuti indeksnya\n",
    "for i,n in enumerate(nilai):\n",
    "    print(i,n)\n",
    "    \n",
    "#looping menggunakan range\n",
    "for x in range(0,len(nilai)):\n",
    "    print(x,nilai[x])\n",
    "    \n",
    "#len() untuk mengukur panjang list\n",
    "#range() untuk membuat urutan angka"
   ]
  },
  {
   "cell_type": "code",
   "execution_count": 5,
   "metadata": {},
   "outputs": [
    {
     "name": "stdout",
     "output_type": "stream",
     "text": [
      "b\n",
      "a\n",
      "n\n",
      "a\n",
      "n\n",
      "a\n"
     ]
    }
   ],
   "source": [
    "for x in \"banana\":\n",
    "  print(x)"
   ]
  },
  {
   "cell_type": "code",
   "execution_count": 6,
   "metadata": {},
   "outputs": [
    {
     "name": "stdout",
     "output_type": "stream",
     "text": [
      "0\n",
      "1\n",
      "2\n",
      "3\n",
      "4\n",
      "5\n"
     ]
    }
   ],
   "source": [
    "for x in range(6):\n",
    "  print(x)\\"
   ]
  },
  {
   "cell_type": "code",
   "execution_count": 28,
   "metadata": {},
   "outputs": [
    {
     "name": "stdout",
     "output_type": "stream",
     "text": [
      "60.0\n"
     ]
    }
   ],
   "source": [
    "total = 0\n",
    "for n in nilai:\n",
    "    total=total+n\n",
    "    #total += n\n",
    "rata = total/len(nilai)\n",
    "print(rata)"
   ]
  },
  {
   "cell_type": "code",
   "execution_count": 19,
   "metadata": {},
   "outputs": [
    {
     "name": "stdout",
     "output_type": "stream",
     "text": [
      "1 apple\n",
      "2 banana\n",
      "3 grapes\n",
      "4 pear\n"
     ]
    }
   ],
   "source": [
    "#enumerate()\n",
    "my_list = ['apple', 'banana', 'grapes', 'pear']\n",
    "for c, value in enumerate(my_list, 1): #or for c, value in enumerate(my_list):\n",
    "    print(c,value)"
   ]
  },
  {
   "cell_type": "code",
   "execution_count": 26,
   "metadata": {},
   "outputs": [
    {
     "name": "stdout",
     "output_type": "stream",
     "text": [
      "5 tidak ada bos\n"
     ]
    }
   ],
   "source": [
    "n=5\n",
    "if n in nilai:\n",
    "    print(n,\"ada nilainya\")\n",
    "else:\n",
    "    print(n,\"tidak ada bos\")"
   ]
  },
  {
   "cell_type": "code",
   "execution_count": 27,
   "metadata": {},
   "outputs": [
    {
     "name": "stdout",
     "output_type": "stream",
     "text": [
      "[30, 40, 50, 60, 70, 80, 90]\n"
     ]
    }
   ],
   "source": [
    "print(nilai)"
   ]
  },
  {
   "cell_type": "code",
   "execution_count": 40,
   "metadata": {},
   "outputs": [
    {
     "name": "stdout",
     "output_type": "stream",
     "text": [
      "30 nilai ini tidak ada didalam list\n",
      "40 nilai ini tidak ada didalam list\n",
      "50 nilai ini tidak ada didalam list\n",
      "60 => ada di dalam list\n",
      "70 => ada di dalam list\n",
      "80 => ada di dalam list\n",
      "90 => ada di dalam list\n"
     ]
    }
   ],
   "source": [
    "#latihan 1 tampilkan nilai dari list yang lebih dari sama dengan (>=) rata-ratanya4\n",
    "total = 0\n",
    "for n in nilai:\n",
    "    total += n\n",
    "    \n",
    "mean_nilai = total/len(nilai)\n",
    "\n",
    "#classifying\n",
    "for n in nilai:\n",
    "    if n >= mean_nilai:\n",
    "        print(n,\"=> ada di dalam list\")\n",
    "    else:\n",
    "        print(n,\"nilai ini tidak ada didalam list\")\n",
    "        "
   ]
  },
  {
   "cell_type": "code",
   "execution_count": 41,
   "metadata": {},
   "outputs": [
    {
     "name": "stdout",
     "output_type": "stream",
     "text": [
      "('Januari', 'Februari', 'Maret', 'April', 'Mei', 'Juni', 'Juli', 'Agustus', 'September', 'Oktober', 'November', 'Desember')\n"
     ]
    }
   ],
   "source": [
    "# Deklarasi Tuple\n",
    "# Tuple cannot to be modified by user. faster to read than list\n",
    "# for example for dictionary\n",
    "bulan = (\"Januari\",\"Februari\",\"Maret\",\"April\",\"Mei\",\"Juni\",\"Juli\",\"Agustus\",\"September\",\"Oktober\",\"November\",\"Desember\")\n",
    "print(bulan)"
   ]
  },
  {
   "cell_type": "code",
   "execution_count": 51,
   "metadata": {},
   "outputs": [
    {
     "name": "stdout",
     "output_type": "stream",
     "text": [
      "{'Nama': 'Surti', 'Umur': 7, 'JenisKelamin': 'Ceue'}\n"
     ]
    }
   ],
   "source": [
    "#Dictionary\n",
    "#untuk map reduce(?)\n",
    "siswa = {'Nama': 'Surti', 'Umur': 7, 'JenisKelamin': 'Ceue'}\n",
    "siswa2 = {'Nama': 'Tejo', 'Umur': 100, 'JenisKelamin': 'Laki-Laki'}\n",
    "#print(siswa)\n",
    "#print(siswa['Nama'])\n",
    "#print(siswa['Umur'])\n",
    "#print(siswa['JenisKelamin'])\n",
    "\n",
    "#save data of siswa and siswa2 to list_siswa array to make easiest way to call siswa and siswa2 as list_siswa[0] or list_siswa[1]\n",
    "list_siswa = []\n",
    "list_siswa.append(siswa)\n",
    "list_siswa.append(siswa2)\n",
    "print(list_siswa[0])"
   ]
  },
  {
   "cell_type": "code",
   "execution_count": 52,
   "metadata": {},
   "outputs": [
    {
     "name": "stdout",
     "output_type": "stream",
     "text": [
      "{'Nama': 'Surti', 'Umur': 7, 'JenisKelamin': 'Ceue'}\n",
      "{'Nama': 'ndoli', 'Umur': 7, 'JenisKelamin': 'Ceue'}\n"
     ]
    }
   ],
   "source": [
    "#to change dictionary variable\n",
    "print(siswa)\n",
    "siswa['Nama'] = 'ndoli'\n",
    "print(siswa)"
   ]
  },
  {
   "cell_type": "code",
   "execution_count": 56,
   "metadata": {},
   "outputs": [
    {
     "name": "stdout",
     "output_type": "stream",
     "text": [
      "{'Nama': 'ndoli', 'Umur': 7, 'JenisKelamin': 'Ceue', 'alamat': 'Jl. pinggir no 1', 'nilai': [30, 40, 50, 60, 70, 80, 90]}\n",
      "{'Nama': 'ndoli', 'Umur': 7, 'JenisKelamin': 'Ceue', 'alamat': 'Jl. pinggir no 1', 'nilai': [30, 40, 50, 60, 70, 80, 90]}\n"
     ]
    }
   ],
   "source": [
    "#add element\n",
    "siswa['alamat'] = \"Jl. pinggir no 1\"\n",
    "print(siswa)\n",
    "siswa['nilai'] = nilai\n",
    "print(siswa)"
   ]
  },
  {
   "cell_type": "code",
   "execution_count": 58,
   "metadata": {},
   "outputs": [
    {
     "name": "stdout",
     "output_type": "stream",
     "text": [
      "30\n",
      "40\n",
      "50\n",
      "60\n",
      "70\n",
      "80\n",
      "90\n"
     ]
    }
   ],
   "source": [
    "#call dictionary 'nilai' list for ndoli\n",
    "\n",
    "for n in siswa[\"nilai\"]:\n",
    "    print(n)"
   ]
  },
  {
   "cell_type": "code",
   "execution_count": 64,
   "metadata": {},
   "outputs": [
    {
     "name": "stdout",
     "output_type": "stream",
     "text": [
      "Nama ndoli\n",
      "Umur 7\n",
      "JenisKelamin Ceue\n",
      "alamat Jl. pinggir no 1\n",
      "nilai [30, 40, 50, 60, 70, 80, 90]\n",
      "=========or==========\n",
      "Nama ndoli\n",
      "Umur 7\n",
      "JenisKelamin Ceue\n",
      "alamat Jl. pinggir no 1\n",
      "nilai [30, 40, 50, 60, 70, 80, 90]\n",
      "Nama ndoli\n",
      "Umur 7\n",
      "JenisKelamin Ceue\n",
      "alamat Jl. pinggir no 1\n",
      "nilai [30, 40, 50, 60, 70, 80, 90]\n"
     ]
    }
   ],
   "source": [
    "#look the siswa list\n",
    "for k,v in siswa.items():\n",
    "    print(k,v)\n",
    "print(\"=========or==========\")\n",
    "#or call all of them\n",
    "for l in list_siswa:\n",
    "    for k,v in siswa.items():\n",
    "        print(k,v)"
   ]
  },
  {
   "cell_type": "code",
   "execution_count": 71,
   "metadata": {},
   "outputs": [
    {
     "name": "stdout",
     "output_type": "stream",
     "text": [
      "jelek .\n",
      " .jele anu\n"
     ]
    }
   ],
   "source": [
    "#operasi string\n",
    "#slicing\n",
    "\n",
    "nama = \"jelek .jele anunya. jele\"\n",
    "print(nama[0:7])\n",
    "print(nama[5:15])"
   ]
  },
  {
   "cell_type": "code",
   "execution_count": null,
   "metadata": {},
   "outputs": [],
   "source": []
  },
  {
   "cell_type": "code",
   "execution_count": null,
   "metadata": {},
   "outputs": [],
   "source": []
  },
  {
   "cell_type": "code",
   "execution_count": 68,
   "metadata": {},
   "outputs": [
    {
     "name": "stdout",
     "output_type": "stream",
     "text": [
      "j\n",
      "e\n",
      "l\n",
      "e\n",
      "k\n",
      " \n",
      "j\n",
      "e\n",
      "l\n",
      "e\n",
      " \n",
      "a\n",
      "n\n",
      "u\n",
      "n\n",
      "y\n",
      "a\n",
      " \n",
      "j\n",
      "e\n",
      "l\n",
      "e\n"
     ]
    }
   ],
   "source": [
    "#slicing all of words\n",
    "for m in nama:\n",
    "    print(m)"
   ]
  },
  {
   "cell_type": "code",
   "execution_count": 73,
   "metadata": {},
   "outputs": [
    {
     "name": "stdout",
     "output_type": "stream",
     "text": [
      "['jelek', '.jele', 'anunya.', 'jele']\n",
      "jelek\n",
      ".jele\n",
      "==============\n",
      "['jelek ', 'jele anunya', ' jele']\n",
      "jelek \n",
      "jele anunya\n"
     ]
    }
   ],
   "source": [
    "kata = nama.split()\n",
    "print(kata)\n",
    "print(kata[0])\n",
    "print(kata[1])\n",
    "print(\"==============\")\n",
    "\n",
    "#or splitting like this\n",
    "titik = nama.split(\".\")\n",
    "print(titik)\n",
    "print(titik[0])\n",
    "print(titik[1])\n",
    "#this is using dot . as spitter"
   ]
  },
  {
   "cell_type": "code",
   "execution_count": null,
   "metadata": {},
   "outputs": [],
   "source": []
  }
 ],
 "metadata": {
  "kernelspec": {
   "display_name": "Python 3",
   "language": "python",
   "name": "python3"
  },
  "language_info": {
   "codemirror_mode": {
    "name": "ipython",
    "version": 3
   },
   "file_extension": ".py",
   "mimetype": "text/x-python",
   "name": "python",
   "nbconvert_exporter": "python",
   "pygments_lexer": "ipython3",
   "version": "3.7.0"
  }
 },
 "nbformat": 4,
 "nbformat_minor": 2
}
